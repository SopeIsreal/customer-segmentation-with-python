{
 "cells": [
  {
   "cell_type": "code",
   "execution_count": null,
   "id": "4298f6ce",
   "metadata": {},
   "outputs": [],
   "source": [
    "import pandas as pd\n",
    "import numpy as np\n",
    "import datetime\n",
    "from datetime import date, timedelta\n",
    "import plotly.graph_objects as go\n",
    "import plotly.express as px\n",
    "import plotly.io as pio\n",
    "from plotly.subplots import make_subplots \n",
    "pio.renderers.default='notebook'\n",
    "pio.templates.default = \"plotly_white\"\n",
    "import ipywidgets as widgets"
   ]
  },
  {
   "cell_type": "code",
   "execution_count": null,
   "id": "67d24fe2",
   "metadata": {},
   "outputs": [],
   "source": [
    "customer = pd.read_csv('BankCustomersUK.csv')"
   ]
  },
  {
   "cell_type": "code",
   "execution_count": null,
   "id": "0ecc3d8f",
   "metadata": {},
   "outputs": [],
   "source": [
    "customer.info()\n",
    "customer.head()"
   ]
  },
  {
   "cell_type": "markdown",
   "id": "d5cf66cb",
   "metadata": {},
   "source": [
    "Right away, I see some issues with this dataset.\n",
    "\n",
    "Firstly, the dtype of the date column is wrong.\n",
    "\n",
    "Secondly, there are some columns are irrelevant and will need to be deleted.\n",
    "\n",
    "We will also need to check for null values. However, apart from that the data looks pretty neat and doesnt really need too much cleaning."
   ]
  },
  {
   "cell_type": "code",
   "execution_count": null,
   "id": "c23c6c22",
   "metadata": {},
   "outputs": [],
   "source": [
    "#converting to date\n",
    "customer['Date Joined'] = pd.to_datetime(customer['Date Joined'])\n",
    "customer['Date Joined']"
   ]
  },
  {
   "cell_type": "code",
   "execution_count": null,
   "id": "a4f334a6",
   "metadata": {},
   "outputs": [],
   "source": [
    "#to confirm dtype change\n",
    "customer.info()"
   ]
  },
  {
   "cell_type": "code",
   "execution_count": null,
   "id": "80e031c5",
   "metadata": {},
   "outputs": [],
   "source": [
    "#rename the job classification column to something shorter\n",
    "customer.rename(columns={\"Job Classification\": \"Job Class\"}, inplace=True)\n",
    "customer.head(1)"
   ]
  },
  {
   "cell_type": "code",
   "execution_count": null,
   "id": "b5106602",
   "metadata": {},
   "outputs": [],
   "source": [
    "#delete irrelevat columns\n",
    "customer = customer.drop(['Customer ID', 'Name', 'Surname'], axis=1)"
   ]
  },
  {
   "cell_type": "code",
   "execution_count": null,
   "id": "8f412421",
   "metadata": {},
   "outputs": [],
   "source": [
    "#confirm deletion\n",
    "customer.head(1)"
   ]
  },
  {
   "cell_type": "markdown",
   "id": "ea0d3a50",
   "metadata": {},
   "source": [
    "Sorting the values of age from ascending to descending "
   ]
  },
  {
   "cell_type": "code",
   "execution_count": null,
   "id": "172e59a0",
   "metadata": {},
   "outputs": [],
   "source": [
    "customer.sort_values(by='Age', inplace = True)"
   ]
  },
  {
   "cell_type": "markdown",
   "id": "2086e2a8",
   "metadata": {},
   "source": [
    "Lets look at the relationship between Account balance and job class"
   ]
  },
  {
   "cell_type": "code",
   "execution_count": null,
   "id": "5ba42448",
   "metadata": {},
   "outputs": [],
   "source": [
    "customer2 = customer.groupby('Job Class')['Balance'].sum()\n",
    "fig = px.bar(customer2, x = customer2.index, y = 'Balance', title = 'Account balance per job class')\n",
    "fig.update_traces(marker_color=['blue', 'aquamarine', 'silver'])\n",
    "fig.show('notebook')"
   ]
  },
  {
   "cell_type": "markdown",
   "id": "6c9b1a13",
   "metadata": {},
   "source": [
    "Observations: \n",
    "\n",
    "1. White collar: White collar workers have the highest bank balances with a total value of over £78M. \n",
    "2. Blue collar: The blue collars have the next highest bank balances with over £41M.\n",
    "3. Other: The other group has the lowest total account balances with a little above £40M.\n"
   ]
  },
  {
   "cell_type": "markdown",
   "id": "63bd7540",
   "metadata": {},
   "source": [
    "Just because a group has the largest bank balance doesnt mean that they are the largest group by population. The could just have richer people. Is that the case in this scenario? Next I'll do a donut chart to confirm this"
   ]
  },
  {
   "cell_type": "code",
   "execution_count": null,
   "id": "2d679d75",
   "metadata": {},
   "outputs": [],
   "source": [
    "Job = customer['Job Class'].value_counts()\n",
    "label = Job.index\n",
    "counts = Job.values\n",
    "colors = ['silver', 'blue', 'aquamarine']\n",
    "fig = go.Figure(data=[go.Pie(labels=label, values=counts)])\n",
    "fig.update_layout(title_text='Job Class distribution', annotations=[dict(text='Group: Job Class', x=0.5, y=0.5, font_size=20, showarrow=False)])\n",
    "fig.update_traces(hole= .6, hoverinfo='label+value', textinfo='percent', textfont_size=30,\n",
    "                  marker=dict(colors=colors, line=dict(color='black', width=3)))\n",
    "fig.show('notebook')"
   ]
  },
  {
   "cell_type": "markdown",
   "id": "8a240ed6",
   "metadata": {},
   "source": [
    "Observations:\n",
    "\n",
    "1. White collar: The largest segment of account openers are the white collars which make up almost half of all the accounts opened for that year (48.7%)\n",
    "2. Blue Collar: The blue collars have the scond largest percentage of account openers with 26.1%\n",
    "3. Other: The others follow the blue collars closesly with a 0.9% difference in the share percentage (25.2%)\n",
    "\n",
    "From the above, it is clear to see that the biggest customer base is the white collar group so it would make sense to design financial products that will cater to that demography of customers which are most likely salary earners. "
   ]
  },
  {
   "cell_type": "code",
   "execution_count": null,
   "id": "607d2bc3",
   "metadata": {
    "scrolled": true
   },
   "outputs": [],
   "source": [
    "region = customer.groupby('Region')['Balance'].sum()\n",
    "fig = px.bar(region, x = region.index, y = 'Balance', title = 'Account balance per region')\n",
    "fig.update_traces(marker_color=['teal', 'lime', 'skyblue', 'cyan'])\n",
    "fig.show('notebook')"
   ]
  },
  {
   "cell_type": "markdown",
   "id": "d4f45ece",
   "metadata": {},
   "source": [
    "Observations:\n",
    "\n",
    "The region with the highest account balance is England £84.83M, followed by scotland £44.4M, Wales £22.04M and Nothern Ireland respectively £8.3M.  \n",
    "\n",
    "Like I said above, just because a region has the largest bank balance doesnt mean that region is the most populous. We do a donut chart to confirm this\n"
   ]
  },
  {
   "cell_type": "code",
   "execution_count": null,
   "id": "ba6acdb6",
   "metadata": {},
   "outputs": [],
   "source": [
    "Region = customer['Region'].value_counts()\n",
    "label = Region.index\n",
    "counts = Region.values\n",
    "colors = ['teal','skyblue', 'cyan', 'lime']\n",
    "fig = go.Figure(data=[go.Pie(labels=label, values=counts)])\n",
    "fig.update_layout(title_text='Regions', annotations=[dict(text='Group: Regions', x=0.5, y=0.5, font_size=20, showarrow=False)])\n",
    "fig.update_traces(hole= .6, hoverinfo='label+value', textinfo='percent', textfont_size=30,\n",
    "                  marker=dict(colors=colors, line=dict(color='black', width=3)))\n",
    "fig.show('notebook')"
   ]
  },
  {
   "cell_type": "markdown",
   "id": "1377d18e",
   "metadata": {},
   "source": [
    "Observations:\n",
    "    It has been rightfuly noted above that England is the region with the most accounts opened, followed by Scotland, Wales and Northern Ireland\n",
    "Next, Relationship between Age and account balance"
   ]
  },
  {
   "cell_type": "code",
   "execution_count": null,
   "id": "66a6e023",
   "metadata": {},
   "outputs": [],
   "source": [
    "age = customer.groupby('Age')['Balance'].sum()\n",
    "fig = px.bar(age, x = age.index, y = 'Balance', title = 'Account balance per age', color = age.index)\n",
    "\n",
    "fig.show('notebook')"
   ]
  },
  {
   "cell_type": "markdown",
   "id": "b8d1d9e5",
   "metadata": {},
   "source": [
    "Observations\n",
    "\n",
    "1. We can see that the segment of customers with the highest account balances is the Age group ranging from the late 20's to the mid 40's. Ages 17 to 27 and ages 48 and above are the group segments with a low account balance. This information is useful in knowing which age range to focus marketing efforts on. It can also help in the research stage of a product design.   "
   ]
  },
  {
   "cell_type": "markdown",
   "id": "1aa5d6fa",
   "metadata": {},
   "source": [
    "Next, lets checkout the gender distribution"
   ]
  },
  {
   "cell_type": "code",
   "execution_count": null,
   "id": "dceea7f8",
   "metadata": {},
   "outputs": [],
   "source": [
    "Gender = customer['Gender'].value_counts()\n",
    "label = Gender.index\n",
    "counts = Gender.values\n",
    "colors = ['coral', 'cornsilk']\n",
    "fig = go.Figure(data=[go.Pie(labels=label, values=counts)])\n",
    "fig.update_layout(title_text='Gender distribution', annotations=[dict(text='Group: Gender', x=0.5, y=0.5, font_size=20, showarrow=False)])\n",
    "fig.update_traces(hole= .6, hoverinfo='label+value', textinfo='percent', textfont_size=30,\n",
    "                  marker=dict(colors=colors, line=dict(color='black', width=3)))\n",
    "fig.show('notebook')"
   ]
  },
  {
   "cell_type": "markdown",
   "id": "2b7bf176",
   "metadata": {},
   "source": [
    "The gender distribution is almost equal with just a 7.8% difference."
   ]
  },
  {
   "cell_type": "code",
   "execution_count": null,
   "id": "6c3e9ed8",
   "metadata": {},
   "outputs": [],
   "source": [
    "date1 = customer.groupby('Date Joined')['Balance'].count().rename('No. of accounts opened').reset_index()\n",
    "fig = px.line(date1, x= 'Date Joined', y='No. of accounts opened', title= 'Date joined distribution')\n",
    "fig.show('notebook')"
   ]
  },
  {
   "cell_type": "markdown",
   "id": "ee3bc877",
   "metadata": {},
   "source": [
    "We can see the account opening was slow during the begining of the year but gradually increases as the year progresses."
   ]
  },
  {
   "cell_type": "code",
   "execution_count": null,
   "id": "79bae49c",
   "metadata": {},
   "outputs": [],
   "source": []
  }
 ],
 "metadata": {
  "kernelspec": {
   "display_name": "Python 3 (ipykernel)",
   "language": "python",
   "name": "python3"
  },
  "language_info": {
   "codemirror_mode": {
    "name": "ipython",
    "version": 3
   },
   "file_extension": ".py",
   "mimetype": "text/x-python",
   "name": "python",
   "nbconvert_exporter": "python",
   "pygments_lexer": "ipython3",
   "version": "3.9.13"
  }
 },
 "nbformat": 4,
 "nbformat_minor": 5
}
